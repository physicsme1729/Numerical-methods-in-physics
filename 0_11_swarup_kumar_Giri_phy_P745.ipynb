{
  "nbformat": 4,
  "nbformat_minor": 0,
  "metadata": {
    "colab": {
      "provenance": [],
      "include_colab_link": true
    },
    "kernelspec": {
      "name": "python3",
      "display_name": "Python 3"
    },
    "language_info": {
      "name": "python"
    }
  },
  "cells": [
    {
      "cell_type": "markdown",
      "metadata": {
        "id": "view-in-github",
        "colab_type": "text"
      },
      "source": [
        "<a href=\"https://colab.research.google.com/github/physicsme1729/Numerical-methods-in-physics/blob/main/0_11_swarup_kumar_Giri_phy_P745.ipynb\" target=\"_parent\"><img src=\"https://colab.research.google.com/assets/colab-badge.svg\" alt=\"Open In Colab\"/></a>"
      ]
    },
    {
      "cell_type": "markdown",
      "source": [
        "# ***Problem-1:***"
      ],
      "metadata": {
        "id": "D5ke9D_5-DVc"
      }
    },
    {
      "cell_type": "markdown",
      "source": [
        "Find the minimum of the function $F(x, y, z) = 2x^2 + 3y^2 + z^2 + xy + xz − 2y$\n",
        "\n",
        "and confirm the result analytically."
      ],
      "metadata": {
        "id": "Kq6Guuoc-DdU"
      }
    },
    {
      "cell_type": "markdown",
      "source": [
        "# ***Solution:-***"
      ],
      "metadata": {
        "id": "uHkqtJ_9_jAV"
      }
    },
    {
      "cell_type": "markdown",
      "source": [
        "**Analytical solution:**\n"
      ],
      "metadata": {
        "id": "mbGd2wN6_oAR"
      }
    },
    {
      "cell_type": "markdown",
      "source": [
        "\n",
        "\n",
        "To find the minimum of the function $F(x, y, z) = 2x^2 + 3y^2 + z^2 + xy + xz - 2y$, we can use calculus. The minimum occurs at a point where the gradient of the function is zero. The gradient of the function is a vector of its partial derivatives with respect to each variable:\n",
        "\n",
        "$\n",
        "\\nabla F = \\left(\\frac{\\partial F}{\\partial x}, \\frac{\\partial F}{\\partial y}, \\frac{\\partial F}{\\partial z}\\right)\n",
        "$\n",
        "\n",
        "Let's compute the partial derivatives of \\(F\\) with respect to \\(x\\), \\(y\\), and \\(z\\):\n",
        "\n",
        "$\n",
        "\\frac{\\partial F}{\\partial x} = 4x + y + z\n",
        "$\n",
        "\n",
        "$\n",
        "\\frac{\\partial F}{\\partial y} = 6y + x - 2\n",
        "$\n",
        "\n",
        "$\n",
        "\\frac{\\partial F}{\\partial z} = 2z + x\n",
        "$\n",
        "\n",
        "Now, we can set each of these partial derivatives equal to zero to find the critical points:\n",
        "\n",
        "$\n",
        "\\frac{\\partial F}{\\partial x} = 4x + y + z = 0\n",
        "$\n",
        "\n",
        "$\n",
        "\\frac{\\partial F}{\\partial y} = 6y + x - 2 = 0\n",
        "$\n",
        "\n",
        "$\n",
        "\\frac{\\partial F}{\\partial z} = 2z + x = 0\n",
        "$\n",
        "\n",
        "Solving these equations simultaneously will give us the critical point(s) where the gradient is zero.\n",
        "\n",
        "Let's first solve for \\(x\\) in the third equation:\n",
        "\n",
        "$\n",
        "2z + x = 0 \\implies x = -2z\n",
        "$\n",
        "\n",
        "Now, we can substitute this expression for \\(x\\) into the first and second equations:\n",
        "\n",
        "$\n",
        "4x + y + z = 0 \\implies 4(-2z) + y + z = 0\n",
        "$\n",
        "\n",
        "$\n",
        "-8z + y + z = 0\n",
        "$\n",
        "\n",
        "$\n",
        "-7z + y = 0 \\implies y = 7z\n",
        "$\n",
        "\n",
        "$\n",
        "6y + x - 2 = 0 \\implies 6(7z) + (-2z) - 2 = 0\n",
        "$\n",
        "\n",
        "$\n",
        "42z - 2z - 2 = 0\n",
        "$\n",
        "\n",
        "$\n",
        "40z - 2 = 0\n",
        "$\n",
        "\n",
        "$\n",
        "40z = 2\n",
        "$\n",
        "\n",
        "$\n",
        "z = \\frac{2}{40} = \\frac{1}{20}\n",
        "$\n",
        "\n",
        "Now that we have found values for \\(x\\), \\(y\\), and \\(z\\), we can calculate the corresponding minimum value of \\(F\\):\n",
        "\n",
        "$\n",
        "x = -2z = -2\\left(\\frac{1}{20}\\right) = -\\frac{1}{10}\n",
        "$\n",
        "\n",
        "$\n",
        "y = 7z = 7\\left(\\frac{1}{20}\\right) = \\frac{7}{20}\n",
        "$\n",
        "\n",
        "Now, substitute these values into \\(F\\):\n",
        "\n",
        "$\n",
        "F\\left(-\\frac{1}{10}, \\frac{7}{20}, \\frac{1}{20}\\right) = 2\\left(-\\frac{1}{10}\\right)^2 + 3\\left(\\frac{7}{20}\\right)^2 + \\left(\\frac{1}{20}\\right)^2 - \\frac{1}{10}\\left(\\frac{7}{20}\\right) - \\frac{1}{10}\\left(\\frac{1}{20}\\right) - 2\\left(\\frac{7}{20}\\right)\n",
        "$\n",
        "\n",
        "Now, one can  find the minimum value of \\(F\\) from  above $F\\left(-\\frac{1}{10}, \\frac{7}{20}, \\frac{1}{20}\\right)$ .\n",
        "\n",
        "\n"
      ],
      "metadata": {
        "id": "HcbgoUqvF2GT"
      }
    },
    {
      "cell_type": "markdown",
      "source": [
        "***solution in python using  \"gradient descent\"***"
      ],
      "metadata": {
        "id": "Iaal8KEITqoE"
      }
    },
    {
      "cell_type": "code",
      "source": [
        "import numpy as np\n",
        "\n",
        "# Define the function F(x, y, z)\n",
        "def F(x, y, z):\n",
        "    return 2*x**2 + 3*y**2 + z**2 + x*y + x*z - 2*y\n",
        "\n",
        "# Define the gradient of F(x, y, z)\n",
        "def gradient_F(x, y, z):\n",
        "    df_dx = 4*x + y + z\n",
        "    df_dy = 6*y + x - 2\n",
        "    df_dz = 2*z + x\n",
        "    return np.array([df_dx, df_dy, df_dz])\n",
        "\n",
        "# Gradient descent parameters\n",
        "learning_rate = 0.01\n",
        "num_iterations = 1000\n",
        "initial_point = np.array([1.0, 1.0, 1.0])  # Initial guess\n",
        "\n",
        "# Gradient descent optimization\n",
        "current_point = initial_point\n",
        "for i in range(num_iterations):\n",
        "    gradient = gradient_F(*current_point)\n",
        "    current_point -= learning_rate * gradient\n",
        "\n",
        "# The minimum point is in current_point\n",
        "min_x, min_y, min_z = current_point\n",
        "min_value = F(min_x, min_y, min_z)\n",
        "\n",
        "print(f\"Minimum at (x, y, z) = ({min_x}, {min_y}, {min_z})\")\n",
        "print(f\"Minimum value of F: {min_value}\")\n"
      ],
      "metadata": {
        "colab": {
          "base_uri": "https://localhost:8080/"
        },
        "id": "CiUaH4Ynqi2k",
        "outputId": "4eb64ca0-22e1-4221-f478-e368ef8cfaa4"
      },
      "execution_count": null,
      "outputs": [
        {
          "output_type": "stream",
          "name": "stdout",
          "text": [
            "Minimum at (x, y, z) = (-0.10000003159536985, 0.3500000071008973, 0.050000070291636986)\n",
            "Minimum value of F: -0.34999999999999537\n"
          ]
        }
      ]
    },
    {
      "cell_type": "markdown",
      "source": [
        "# ***Problem 2:-***"
      ],
      "metadata": {
        "id": "-ew_bWKbT3IN"
      }
    },
    {
      "cell_type": "markdown",
      "source": [
        "\n",
        "The following table displays thermal efficiencies of some early steam engines4.\n",
        "Use linear regression to predict the thermal efficiency in the year 2000.\n",
        "\n",
        "| Year | Efficiency (%) | Type             |\n",
        "|------|----------------|------------------|\n",
        "| 1718 | 0.5            | Newcomen         |\n",
        "| 1767 | 0.8            | Smeaton          |\n",
        "| 1774 | 1.4            | Smeaton          |\n",
        "| 1775 | 2.7            | Watt             |\n",
        "| 1792 | 4.5            | Watt             |\n",
        "| 1816 | 7.5            | Woolf compound   |\n",
        "| 1828 | 12.0           | Improved Cornish |\n",
        "| 1834 | 17.0           | Improved Cornish |\n",
        "| 1878 | 17.2           | Corliss compound |\n",
        "| 1906 | 23.0           | Triple expansion |\n",
        "\n",
        "\n"
      ],
      "metadata": {
        "id": "UiR33ksYT8Q-"
      }
    },
    {
      "cell_type": "markdown",
      "source": [
        "# ***Ans:***"
      ],
      "metadata": {
        "id": "SqzH3ylyu9rO"
      }
    },
    {
      "cell_type": "markdown",
      "source": [
        "To predict the thermal efficiency in the year 2000 using linear regression, one can perform a straight line fit (also known as linear regression) by calculating the slope and intercept of the best-fitting line manually. Here's how one can do it:\n",
        "\n",
        "1.To  Calculate the mean of the year and efficiency values:\n",
        "\n",
        "$\n",
        "\\bar{x} = \\frac{1}{n} \\sum_{i=1}^n x_i \\quad \\text{(mean of years)}\n",
        "$\n",
        "\n",
        "\n",
        "$\n",
        "\\bar{y} = \\frac{1}{n} \\sum_{i=1}^n y_i \\quad \\text{(mean of efficiencies)}\n",
        "$\n",
        "\n",
        "2. To Calculate the slope (\\(m\\)) of the best-fitting line using the formula:\n",
        "\n",
        "$\n",
        "m = \\frac{\\sum_{i=1}^n (x_i - \\bar{x})(y_i - \\bar{y})}{\\sum_{i=1}^n (x_i - \\bar{x})^2}\n",
        "$\n",
        "\n",
        "3. To Calculate the intercept (\\(b\\)) of the best-fitting line using the formula:\n",
        "\n",
        "$\n",
        "b = \\bar{y} - m\\bar{x}\n",
        "$\n",
        "\n",
        "4. Use the equation of the line (\\(y = mx + b\\)) to predict the thermal efficiency in the year 2000 (\\(x = 2000\\)):\n",
        "\n",
        "$\n",
        "\\text{Efficiency}(2000) = m \\cdot 2000 + b\n",
        "$\n",
        "\n",
        "Let's calculate this manually:\n",
        "\n",
        "\\begin{align*}\n",
        "\\text{Data:} \\\\\n",
        "\\text{Years} &= [1718, 1767, 1774, 1775, 1792, 1816, 1828, 1834, 1878, 1906] \\\\\n",
        "\\text{Efficiencies} &= [0.5, 0.8, 1.4, 2.7, 4.5, 7.5, 12.0, 17.0, 17.2, 23.0]\n",
        "\\end{align*}\n",
        "\n",
        "Calculate means:\n",
        "\n",
        "$\n",
        "\\text{Mean Year} = \\frac{\\sum \\text{Years}}{\\text{Number of Years}}\n",
        "$\n",
        "\n",
        "$\n",
        "\\text{Mean Efficiency} = \\frac{\\sum \\text{Efficiencies}}{\\text{Number of Efficiencies}}\n",
        "$\n",
        "\n",
        "Calculate slope (\\(m\\)):\n",
        "\n",
        "$\n",
        "\\text{Numerator} = \\sum_{i=1}^n (x_i - \\bar{x})(y_i - \\bar{y})\n",
        "$\n",
        "\n",
        "$\n",
        "\\text{Denominator} = \\sum_{i=1}^n (x_i - \\bar{x})^2\n",
        "$\n",
        "\n",
        "$\n",
        "\\text{Slope (}m\\text{)} = \\frac{\\text{Numerator}}{\\text{Denominator}}\n",
        "$\n",
        "\n",
        "Calculate intercept (\\(b\\)):\n",
        "\n",
        "$\n",
        "\\text{Intercept (}b\\text{)} = \\text{Mean Efficiency} - \\text{Slope (}m\\text{)} \\times \\text{Mean Year}\n",
        "$\n",
        "\n",
        "\n",
        "$\n",
        "\\text{Predicted Efficiency in 2000} = \\text{Slope (}m\\text{)} \\times \\text{Year 2000} + \\text{Intercept (}b\\text{)}\n",
        "$\n",
        "\n",
        "The predicted thermal efficiency in the year 2000 is approximately found using python code attached below."
      ],
      "metadata": {
        "id": "-v15oezdvvPT"
      }
    },
    {
      "cell_type": "code",
      "source": [
        "# Data\n",
        "years = [1718, 1767, 1774, 1775, 1792, 1816, 1828, 1834, 1878, 1906]\n",
        "efficiencies = [0.5, 0.8, 1.4, 2.7, 4.5, 7.5, 12.0, 17.0, 17.2, 23.0]\n",
        "\n",
        "# Calculate means\n",
        "mean_x = sum(years) / len(years)\n",
        "mean_y = sum(efficiencies) / len(efficiencies)\n",
        "\n",
        "# Calculate the slope (m) and y-intercept (b)\n",
        "numerator = sum((x - mean_x) * (y - mean_y) for x, y in zip(years, efficiencies))\n",
        "denominator = sum((x - mean_x) ** 2 for x in years)\n",
        "m = numerator / denominator\n",
        "b = mean_y - m * mean_x\n",
        "\n",
        "# Predict Efficiency in the year 2000\n",
        "year_2000 = 2000\n",
        "efficiency_2000 = m * year_2000 + b\n",
        "print (\"mean_x=\",mean_x)\n",
        "print (\"mean_y=\",mean_y)\n",
        "print ('slope_m=',m)\n",
        "print ('intercept_b=',b)\n",
        "print(f\"Predicted Efficiency in the year 2000: {efficiency_2000:.2f}%\")\n",
        "\n",
        "# Plot the data and linear regression line\n",
        "import matplotlib.pyplot as plt\n",
        "\n",
        "plt.figure(figsize=(8, 6))\n",
        "plt.scatter(years, efficiencies, label=\"Data Points\")\n",
        "plt.plot(years, [m * x + b for x in years], color='red', label=\"Linear Regression Line\")\n",
        "plt.xlabel(\"Year\")\n",
        "plt.ylabel(\"Efficiency (%)\")\n",
        "plt.title(\"Thermal Efficiency of Steam Engines\")\n",
        "plt.legend()\n",
        "plt.grid(True)\n",
        "plt.show()\n"
      ],
      "metadata": {
        "colab": {
          "base_uri": "https://localhost:8080/",
          "height": 651
        },
        "id": "n_16FrFfzBR4",
        "outputId": "72d6ea9a-f1f5-4633-c0e0-df6619120ec3"
      },
      "execution_count": null,
      "outputs": [
        {
          "output_type": "stream",
          "name": "stdout",
          "text": [
            "mean_x= 1808.8\n",
            "mean_y= 8.66\n",
            "slope_m= 0.1376889353715669\n",
            "intercept_b= -240.3917463000902\n",
            "Predicted Efficiency in the year 2000: 34.99%\n"
          ]
        },
        {
          "output_type": "display_data",
          "data": {
            "text/plain": [
              "<Figure size 800x600 with 1 Axes>"
            ],
            "image/png": "[encoded data removed]"
          },
          "metadata": {}
        }
      ]
    },
    {
      "cell_type": "markdown",
      "source": [
        "The predicted efficiency in year 2000 is -240.39 + $0.13769\\times 2000$ = 35.0%"
      ],
      "metadata": {
        "id": "qDclAxWhbuhP"
      }
    }
  ]
}