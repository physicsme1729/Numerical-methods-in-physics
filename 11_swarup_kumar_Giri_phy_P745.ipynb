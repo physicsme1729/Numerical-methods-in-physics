{
  "nbformat": 4,
  "nbformat_minor": 0,
  "metadata": {
    "colab": {
      "provenance": [],
      "include_colab_link": true
    },
    "kernelspec": {
      "name": "python3",
      "display_name": "Python 3"
    },
    "language_info": {
      "name": "python"
    }
  },
  "cells": [
    {
      "cell_type": "markdown",
      "metadata": {
        "id": "view-in-github",
        "colab_type": "text"
      },
      "source": [
        "<a href=\"https://colab.research.google.com/github/physicsme1729/Numerical-methods-in-physics/blob/main/11_swarup_kumar_Giri_phy_P745.ipynb\" target=\"_parent\"><img src=\"https://colab.research.google.com/assets/colab-badge.svg\" alt=\"Open In Colab\"/></a>"
      ]
    },
    {
      "cell_type": "markdown",
      "source": [
        "# ***Problem-1:***"
      ],
      "metadata": {
        "id": "D5ke9D_5-DVc"
      }
    },
    {
      "cell_type": "markdown",
      "source": [
        "Find the minimum of the function $F(x, y, z) = 2x^2 + 3y^2 + z^2 + xy + xz − 2y$\n",
        "\n",
        "and confirm the result analytically."
      ],
      "metadata": {
        "id": "Kq6Guuoc-DdU"
      }
    },
    {
      "cell_type": "markdown",
      "source": [
        "# ***Solution:-***"
      ],
      "metadata": {
        "id": "uHkqtJ_9_jAV"
      }
    },
    {
      "cell_type": "markdown",
      "source": [
        "**Analytical solution:**\n"
      ],
      "metadata": {
        "id": "mbGd2wN6_oAR"
      }
    },
    {
      "cell_type": "markdown",
      "source": [
        "\n",
        "\n",
        "To find the minimum of the function $F(x, y, z) = 2x^2 + 3y^2 + z^2 + xy + xz - 2y$, we can use calculus. The minimum occurs at a point where the gradient of the function is zero. The gradient of the function is a vector of its partial derivatives with respect to each variable:\n",
        "\n",
        "$\n",
        "\\nabla F = \\left(\\frac{\\partial F}{\\partial x}, \\frac{\\partial F}{\\partial y}, \\frac{\\partial F}{\\partial z}\\right)\n",
        "$\n",
        "\n",
        "Let's compute the partial derivatives of \\(F\\) with respect to \\(x\\), \\(y\\), and \\(z\\):\n",
        "\n",
        "$\n",
        "\\frac{\\partial F}{\\partial x} = 4x + y + z\n",
        "$\n",
        "\n",
        "$\n",
        "\\frac{\\partial F}{\\partial y} = 6y + x - 2\n",
        "$\n",
        "\n",
        "$\n",
        "\\frac{\\partial F}{\\partial z} = 2z + x\n",
        "$\n",
        "\n",
        "Now, we can set each of these partial derivatives equal to zero to find the critical points:\n",
        "\n",
        "$\n",
        "\\frac{\\partial F}{\\partial x} = 4x + y + z = 0\n",
        "$\n",
        "\n",
        "$\n",
        "\\frac{\\partial F}{\\partial y} = 6y + x - 2 = 0\n",
        "$\n",
        "\n",
        "$\n",
        "\\frac{\\partial F}{\\partial z} = 2z + x = 0\n",
        "$\n",
        "\n",
        "Solving these equations simultaneously will give us the critical point(s) where the gradient is zero.\n",
        "\n",
        "Let's first solve for \\(x\\) in the third equation:\n",
        "\n",
        "$\n",
        "2z + x = 0 \\implies x = -2z\n",
        "$\n",
        "\n",
        "Now, we can substitute this expression for \\(x\\) into the first and second equations:\n",
        "\n",
        "$\n",
        "4x + y + z = 0 \\implies 4(-2z) + y + z = 0\n",
        "$\n",
        "\n",
        "$\n",
        "-8z + y + z = 0\n",
        "$\n",
        "\n",
        "$\n",
        "-7z + y = 0 \\implies y = 7z\n",
        "$\n",
        "\n",
        "$\n",
        "6y + x - 2 = 0 \\implies 6(7z) + (-2z) - 2 = 0\n",
        "$\n",
        "\n",
        "$\n",
        "42z - 2z - 2 = 0\n",
        "$\n",
        "\n",
        "$\n",
        "40z - 2 = 0\n",
        "$\n",
        "\n",
        "$\n",
        "40z = 2\n",
        "$\n",
        "\n",
        "$\n",
        "z = \\frac{2}{40} = \\frac{1}{20}\n",
        "$\n",
        "\n",
        "Now that we have found values for \\(x\\), \\(y\\), and \\(z\\), we can calculate the corresponding minimum value of \\(F\\):\n",
        "\n",
        "$\n",
        "x = -2z = -2\\left(\\frac{1}{20}\\right) = -\\frac{1}{10}\n",
        "$\n",
        "\n",
        "$\n",
        "y = 7z = 7\\left(\\frac{1}{20}\\right) = \\frac{7}{20}\n",
        "$\n",
        "\n",
        "Now, substitute these values into \\(F\\):\n",
        "\n",
        "$\n",
        "F\\left(-\\frac{1}{10}, \\frac{7}{20}, \\frac{1}{20}\\right) = 2\\left(-\\frac{1}{10}\\right)^2 + 3\\left(\\frac{7}{20}\\right)^2 + \\left(\\frac{1}{20}\\right)^2 - \\frac{1}{10}\\left(\\frac{7}{20}\\right) - \\frac{1}{10}\\left(\\frac{1}{20}\\right) - 2\\left(\\frac{7}{20}\\right)\n",
        "$\n",
        "\n",
        "Now, one can  find the minimum value of \\(F\\) from  above $F\\left(-\\frac{1}{10}, \\frac{7}{20}, \\frac{1}{20}\\right)$ .\n",
        "\n",
        "\n"
      ],
      "metadata": {
        "id": "HcbgoUqvF2GT"
      }
    },
    {
      "cell_type": "markdown",
      "source": [
        "***solution in python using  \"Downhill method\"***"
      ],
      "metadata": {
        "id": "Iaal8KEITqoE"
      }
    },
    {
      "cell_type": "code",
      "source": [
        "import numpy as np\n",
        "import math\n",
        "\n",
        "def downhill(F, xStart, side=0.1, tol=1.0e-6):\n",
        "    n = len(xStart)  # Number of variables\n",
        "    x = np.zeros((n + 1, n))\n",
        "    f = np.zeros(n + 1)\n",
        "    x[0] = xStart\n",
        "    for i in range(1, n + 1):\n",
        "        x[i] = xStart.copy()\n",
        "        x[i, i - 1] = xStart[i - 1] + side\n",
        "\n",
        "    # Compute values of F at the vertices of the simplex\n",
        "    for i in range(n + 1):\n",
        "        f[i] = F(x[i])\n",
        "\n",
        "    # Main loop\n",
        "    for k in range(500):\n",
        "        iLo = np.argmin(f)\n",
        "        iHi = np.argmax(f)\n",
        "\n",
        "        d = (-(n + 1) * x[iHi] + np.sum(x, axis=0)) / n\n",
        "        if math.sqrt(np.dot(d, d) / n) < tol:\n",
        "            return x[iLo]\n",
        "\n",
        "        xNew = x[iHi] + 2.0 * d\n",
        "        fNew = F(xNew)\n",
        "        if fNew <= f[iLo]:\n",
        "            x[iHi] = xNew\n",
        "            f[iHi] = fNew\n",
        "\n",
        "            xNew = x[iHi] + d\n",
        "            fNew = F(xNew)\n",
        "            if fNew <= f[iLo]:\n",
        "                x[iHi] = xNew\n",
        "                f[iHi] = fNew\n",
        "        else:\n",
        "            if fNew <= f[iHi]:\n",
        "                x[iHi] = xNew\n",
        "                f[iHi] = fNew\n",
        "            else:\n",
        "                xNew = x[iHi] + 0.5 * d\n",
        "                fNew = F(xNew)\n",
        "                if fNew <= f[iHi]:\n",
        "                    x[iHi] = xNew\n",
        "                    f[iHi] = fNew\n",
        "                else:\n",
        "                    for i in range(len(x)):\n",
        "                        if i != iLo:\n",
        "                            x[i] = (x[i] - x[iLo]) * 0.5\n",
        "                            f[i] = F(x[i])\n",
        "    print(\"Too many iterations in downhill\")\n",
        "    return x[iLo]\n",
        "\n",
        "def F(x):\n",
        "    return 2.0 * x[0] ** 2 + 3.0 * x[1] ** 2 + x[2] ** 2 + x[0] * x[1] + x[0] * x[2] - 2.0 * x[1]\n",
        "\n",
        "x = [0.0, 0.0, 0.0]\n",
        "result = downhill(F, x)\n",
        "x = result  # Updated x with the optimized values\n",
        "\n",
        "print(\"x, y, z =\", x)\n",
        "print(\"F(x, y, z) =\", F(x))\n",
        "\n"
      ],
      "metadata": {
        "colab": {
          "base_uri": "https://localhost:8080/"
        },
        "id": "WuToiM0JNkIM",
        "outputId": "5f15fa6a-fb27-4939-ad46-6d366313ab4f"
      },
      "execution_count": null,
      "outputs": [
        {
          "output_type": "stream",
          "name": "stdout",
          "text": [
            "x, y, z = [-0.10000075  0.34999998  0.05000037]\n",
            "F(x, y, z) = -0.34999999999900455\n"
          ]
        }
      ]
    },
    {
      "cell_type": "markdown",
      "source": [
        "# ***Problem 2:-***"
      ],
      "metadata": {
        "id": "-ew_bWKbT3IN"
      }
    },
    {
      "cell_type": "markdown",
      "source": [
        "\n",
        "***Kiusalaas Chapter 3, Problem Set 3.2, Problem 10***"
      ],
      "metadata": {
        "id": "UiR33ksYT8Q-"
      }
    },
    {
      "cell_type": "markdown",
      "source": [
        "# *Python code-*"
      ],
      "metadata": {
        "id": "8-fiYwGjUUo_"
      }
    },
    {
      "cell_type": "code",
      "source": [
        "import numpy as np\n",
        "import math\n",
        "import matplotlib.pyplot as plt\n",
        "\n",
        "def gaussPivot(a, b, tol=1.0e-12):\n",
        "    n = len(b)\n",
        "    s = np.zeros(n)\n",
        "    for i in range(n):\n",
        "        s[i] = max(np.abs(a[i, :]))\n",
        "\n",
        "    for k in range(0, n - 1):\n",
        "        p = np.argmax(np.abs(a[k:n, k]) / s[k:n]) + k  # Row interchange, if needed\n",
        "        if abs(a[p, k]) < tol:\n",
        "            raise ValueError('Matrix is singular')\n",
        "\n",
        "        if p != k:\n",
        "            swapRows(b, k, p)\n",
        "            swapRows(s, k, p)\n",
        "            swapRows(a, k, p)\n",
        "\n",
        "        for i in range(k + 1, n):\n",
        "            if a[i, k] != 0.0:\n",
        "                lam = a[i, k] / a[k, k]\n",
        "                a[i, k + 1:n] = a[i, k + 1:n] - lam * a[k, k + 1:n]\n",
        "                b[i] = b[i] - lam * b[k]\n",
        "\n",
        "    if abs(a[n - 1, n - 1]) < tol:\n",
        "        raise ValueError('Matrix is singular')\n",
        "\n",
        "    # Back substitution\n",
        "    b[n - 1] = b[n - 1] / a[n - 1, n - 1]\n",
        "    for k in range(n - 2, -1, -1):\n",
        "        b[k] = (b[k] - np.dot(a[k, k + 1:n], b[k + 1:n])) / a[k, k]\n",
        "\n",
        "    return b\n",
        "\n",
        "def polyFit(xData, yData, m):\n",
        "    a = np.zeros((m + 1, m + 1))\n",
        "    b = np.zeros(m + 1)\n",
        "    s = np.zeros(2 * m + 1)\n",
        "\n",
        "    for i in range(len(xData)):\n",
        "        temp = yData[i]\n",
        "        for j in range(m + 1):\n",
        "            b[j] = b[j] + temp\n",
        "            temp = temp * xData[i]\n",
        "        temp = 1.0\n",
        "        for j in range(2 * m + 1):\n",
        "            s[j] = s[j] + temp\n",
        "            temp = temp * xData[i]\n",
        "\n",
        "    for i in range(m + 1):\n",
        "        for j in range(m + 1):\n",
        "            a[i, j] = s[i + j]\n",
        "\n",
        "    return gaussPivot(a, b)\n",
        "\n",
        "def stdDev(c, xData, yData):\n",
        "    def evalPoly(c, x):\n",
        "        m = len(c) - 1\n",
        "        p = c[m]\n",
        "        for j in range(m):\n",
        "            p = p * x + c[m - j - 1]\n",
        "        return p\n",
        "\n",
        "    n = len(xData) - 1\n",
        "    m = len(c) - 1\n",
        "    sigma = 0.0\n",
        "\n",
        "    for i in range(n + 1):\n",
        "        p = evalPoly(c, xData[i])\n",
        "        sigma = sigma + (yData[i] - p) ** 2\n",
        "\n",
        "    sigma = math.sqrt(sigma / (n - m))\n",
        "    return sigma\n",
        "\n",
        "def plotPoly(xData, yData, coeff, xlab='x', ylab='y'):\n",
        "    m = len(coeff)\n",
        "    x1 = min(xData)\n",
        "    x2 = max(xData)\n",
        "    dx = (x2 - x1) / 20.0\n",
        "    x = np.arange(x1, x2 + dx / 10.0, dx)\n",
        "    y = np.zeros(len(x))\n",
        "\n",
        "    for i in range(m):\n",
        "        y = y + coeff[i] * x ** i\n",
        "\n",
        "    plt.plot(xData, yData, 'o', x, y, '-')\n",
        "    plt.xlabel(xlab)\n",
        "    plt.ylabel(ylab)\n",
        "    plt.grid(True)\n",
        "    plt.show()\n",
        "\n",
        "xData = np.array([1718, 1767, 1774, 1775, 1792, 1816, 1828, 1834, 1878, 1906]) * 1.0\n",
        "yData = np.array([0.5, 0.8, 1.4, 2.7, 4.5, 7.5, 12.0, 17.0, 17.2, 23.0])\n",
        "coeff = polyFit(xData, yData, 1)\n",
        "\n",
        "print(\"Coefficients are:\\n\", coeff)\n",
        "print(\"Std. deviation =\", stdDev(coeff, xData, yData))\n",
        "plotPoly(xData, yData, coeff, 'Year', 'Efficiency (%)')\n",
        "\n"
      ],
      "metadata": {
        "colab": {
          "base_uri": "https://localhost:8080/",
          "height": 501
        },
        "id": "gzqezeotbWQp",
        "outputId": "56dbd597-bf64-417a-d9b0-5610f4bd6c94"
      },
      "execution_count": null,
      "outputs": [
        {
          "output_type": "stream",
          "name": "stdout",
          "text": [
            "Coefficients are:\n",
            " [-2.40391746e+02  1.37688935e-01]\n",
            "Std. deviation = 2.8552022884971544\n"
          ]
        },
        {
          "output_type": "display_data",
          "data": {
            "text/plain": [
              "<Figure size 640x480 with 1 Axes>"
            ],
            "image/png": "[encoded data removed]"
          },
          "metadata": {}
        }
      ]
    },
    {
      "cell_type": "markdown",
      "source": [
        "The predicted efficiency in year 2000 is -240.39 + $0.13769\\times 2000$ = 35.0%"
      ],
      "metadata": {
        "id": "qDclAxWhbuhP"
      }
    }
  ]
}