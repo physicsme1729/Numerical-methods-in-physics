{
  "nbformat": 4,
  "nbformat_minor": 0,
  "metadata": {
    "colab": {
      "provenance": [],
      "authorship_tag": "ABX9TyNGkqpUVMytsqlzWlcZaeI1",
      "include_colab_link": true
    },
    "kernelspec": {
      "name": "python3",
      "display_name": "Python 3"
    },
    "language_info": {
      "name": "python"
    }
  },
  "cells": [
    {
      "cell_type": "markdown",
      "metadata": {
        "id": "view-in-github",
        "colab_type": "text"
      },
      "source": [
        "<a href=\"https://colab.research.google.com/github/physicsme1729/Numerical-methods-in-physics/blob/main/13_swarup_kumar_giri_phy_p745.ipynb\" target=\"_parent\"><img src=\"https://colab.research.google.com/assets/colab-badge.svg\" alt=\"Open In Colab\"/></a>"
      ]
    },
    {
      "cell_type": "markdown",
      "source": [
        "In class today, we derived the formula for the Runge-Kutta method of order 2. Derive the formula for the Runge-Kutta method of order 3 (RK3). Use RK3 to solve the problem in Example 7.2 of Kiusallas. Modify the RK4 code shared with you in class today; students copy-pasting codes directly from the internet will get zero. Comment on how the solution compares with RK4."
      ],
      "metadata": {
        "id": "Jc8C6UAdS35A"
      }
    },
    {
      "cell_type": "markdown",
      "source": [
        "# ***EXAMPLE 7.2:***"
      ],
      "metadata": {
        "id": "KndKKoKETIJv"
      }
    },
    {
      "cell_type": "markdown",
      "source": [
        "y'' = -0.1y' - x\n",
        "\n",
        "y(0)=0\n",
        "\n",
        "\n",
        "y'(0)=1\n",
        "\n",
        "from x=0 to 2 with Euler's method using h=0.05. Plot the computed y together with the analytical solution,\n",
        "\n",
        "$y=100x-5x^2+990(e^{-0.1x}-1)$"
      ],
      "metadata": {
        "id": "8PzPRberTOdo"
      }
    },
    {
      "cell_type": "markdown",
      "source": [
        "# ***ANS:***"
      ],
      "metadata": {
        "id": "oGAR028kUKdH"
      }
    },
    {
      "cell_type": "markdown",
      "source": [
        "***Derivation of  the formula for the Runge-Kutta method of order 3:-***"
      ],
      "metadata": {
        "id": "U3pZuCtPUOCH"
      }
    },
    {
      "cell_type": "markdown",
      "source": [
        "Runge-Kutta method of order 3 (RK3) is a numerical method for solving initial value problems (IVPs) for ordinary differential equations (ODEs). It is a three-stage method, meaning that it uses three function evaluations per step. The formula for RK3 is:\n",
        "\n",
        "$$\n",
        "y_{n+1} = y_n + 1/6 (k_1 + 4k_2 + k_3)\n",
        "$$\n",
        "\n",
        "where:\n",
        "\n",
        "$$\n",
        "k_1 = hf(x_n, y_n)\n",
        "$$\n",
        "\n",
        "$$\n",
        "k_2 = hf(x_n + h/2, y_n + k_1/2)\n",
        "$$\n",
        "\n",
        "$$\n",
        "k_3 = hf(x_n + h, y_n - k_1 + 2k_2)\n",
        "$$\n",
        "\n",
        "To derive the formula for RK3, we start with the Taylor series expansion of the solution y(x) of the ODE y'(x) = f(x, y(x)) at the point x = x_n:\n",
        "\n",
        "$$\n",
        "y(x_n + h) = y(x_n) + hy'(x_n) + h^2/2 y''(x_n) + O(h^3)\n",
        "$$\n",
        "\n",
        "We can substitute the equation y'(x) = f(x, y(x)) into this equation to get:\n",
        "\n",
        "$$\n",
        "y(x_n + h) = y(x_n) + hf(x_n, y(x_n)) + h^2/2 f'(x_n, y(x_n)) + O(h^3)\n",
        "$$\n",
        "\n",
        "We can approximate $y(x_n + h)$ by $y_{n+1}$, $y(x_n)$ by $y_n$$, and f'(x_n, y(x_n))$ by $f(x_n + h/2, y(x_n + h/2))$.\n",
        "\n",
        " This gives us:\n",
        "\n",
        "$$\n",
        "y_{n+1} = y_n + hf(x_n, y_n) + h^2/2 f(x_n + h/2, y(x_n + h/2)) + O(h^3)\n",
        "$$\n",
        "\n",
        "We can approximate y(x_n + h/2) by y_n + k_1/2, where k_1 = hf(x_n, y_n). This gives us:\n",
        "\n",
        "$$\n",
        "y_{n+1} = y_n + hf(x_n, y_n) + h^2/2 f(x_n + h/2, y_n + k_1/2) + O(h^3)\n",
        "$$\n",
        "\n",
        "We can approximate f(x_n + h/2, y_n + k_1/2) by f(x_n + h/2, y_n) + k_2/2, where k_2 = hf(x_n + h/2, y_n). This gives us:\n",
        "\n",
        "$$\n",
        "y_{n+1} = y_n + hf(x_n, y_n) + h^2/2 (f(x_n + h/2, y_n) + k_2/2) + O(h^3)\n",
        "$$\n",
        "\n",
        "This equation is accurate to third order in h. We can rewrite this equation as:\n",
        "\n",
        "$$\n",
        "y_{n+1} = y_n + 1/6 (k_1 + 4k_2 + k_3)\n",
        "$$\n",
        "\n",
        "where:\n",
        "\n",
        "$$\n",
        "k_1 = hf(x_n, y_n)\n",
        "$$\n",
        "\n",
        "$$\n",
        "k_2 = hf(x_n + h/2, y_n + k_1/2)\n",
        "$$\n",
        "\n",
        "$$\n",
        "k_3 = hf(x_n + h, y_n - k_1 + 2k_2)\n",
        "$$\n",
        "\n",
        "This is the formula for RK3."
      ],
      "metadata": {
        "id": "uIyMQIBIXfk-"
      }
    },
    {
      "cell_type": "markdown",
      "source": [
        "*** solving  the problem in Example 7.2 by Rk3 method:***"
      ],
      "metadata": {
        "id": "dubT46ipefwC"
      }
    },
    {
      "cell_type": "markdown",
      "source": [
        "Below is the Python code to solve the given second-order ordinary differential equation (ODE) using the Runge-Kutta method of order 3 (RK3) with a step size of 0.05. It then plots the computed solution alongside the analytical solution for comparison."
      ],
      "metadata": {
        "id": "sPfs8jXvepzm"
      }
    },
    {
      "cell_type": "code",
      "source": [
        "import numpy as np\n",
        "import matplotlib.pyplot as plt\n",
        "\n",
        "def runge_kutta_3(F, x, y, h):\n",
        "    K1 = h * F(x, y)\n",
        "    K2 = h * F(x + h / 2, y + K1 / 2)\n",
        "    K3 = h * F(x + h, y - K1 + 2 * K2)\n",
        "    return (K1 + 4 * K2 + K3) / 6\n",
        "\n",
        "def F(x, y):\n",
        "    F = np.zeros(2)\n",
        "    F[0] = y[1]\n",
        "    F[1] = -0.1 * y[1] - x\n",
        "    return F\n",
        "\n",
        "def analytical_solution(x):\n",
        "    return 100 * x - 5 * x**2 + 990 * (np.exp(-0.1 * x) - 1)\n",
        "\n",
        "def integrate_rk3(F, x, y, x_stop, h):\n",
        "    X = []\n",
        "    Y = []\n",
        "\n",
        "    X.append(x)\n",
        "    Y.append(y)\n",
        "\n",
        "    while x < x_stop:\n",
        "        h = min(h, x_stop - x)\n",
        "        y = y + runge_kutta_3(F, x, y, h)\n",
        "        x = x + h\n",
        "\n",
        "        X.append(x)\n",
        "        Y.append(y)\n",
        "\n",
        "    return np.array(X), np.array(Y)\n",
        "\n",
        "# Initial values\n",
        "x_start = 0.0\n",
        "x_stop = 2.0\n",
        "y_initial = np.array([0.0, 1.0])\n",
        "h = 0.05\n",
        "\n",
        "# Numerical solution\n",
        "X, Y_numerical = integrate_rk3(F, x_start, y_initial, x_stop, h)\n",
        "\n",
        "# Analytical solution\n",
        "Y_analytical = analytical_solution(X)\n",
        "\n",
        "# Plotting\n",
        "plt.plot(X, Y_numerical[:, 0], 'o', label='Numerical (RK3)')\n",
        "plt.plot(X, Y_analytical, '-', label='Analytical')\n",
        "plt.grid(True)\n",
        "plt.xlabel('x')\n",
        "plt.ylabel('y')\n",
        "plt.legend()\n",
        "plt.show()\n"
      ],
      "metadata": {
        "colab": {
          "base_uri": "https://localhost:8080/",
          "height": 449
        },
        "id": "UM8DBL-umVQs",
        "outputId": "8cc5b8ff-8305-4d4f-99ab-18bd7bdd3241"
      },
      "execution_count": null,
      "outputs": [
        {
          "output_type": "display_data",
          "data": {
            "text/plain": [
              "<Figure size 640x480 with 1 Axes>"
            ],
            "image/png": "[encoded data removed]"
          },
          "metadata": {}
        }
      ]
    },
    {
      "cell_type": "markdown",
      "source": [
        "# **Modification of  the RK4 code for comparison purpose :**"
      ],
      "metadata": {
        "id": "BtOz4RKCo7DG"
      }
    },
    {
      "cell_type": "code",
      "source": [
        "import numpy as np\n",
        "import matplotlib.pyplot as plt\n",
        "\n",
        "def runge_kutta_3(F, x, y, h):\n",
        "    K1 = h * F(x, y)\n",
        "    K2 = h * F(x + h / 2, y + K1 / 2)\n",
        "    K3 = h * F(x + h, y - K1 + 2 * K2)\n",
        "    return (K1 + 4 * K2 + K3) / 6\n",
        "\n",
        "def runge_kutta_4(F, x, y, h):\n",
        "    K0 = h * F(x, y)\n",
        "    K1 = h * F(x + h / 2, y + K0 / 2)\n",
        "    K2 = h * F(x + h / 2, y + K1 / 2)\n",
        "    K3 = h * F(x + h, y + K2)\n",
        "    return (K0 + 2 * K1 + 2 * K2 + K3) / 6\n",
        "\n",
        "def integrate_rk3(F, x, y, x_stop, h):\n",
        "    X = []\n",
        "    Y = []\n",
        "\n",
        "    X.append(x)\n",
        "    Y.append(y)\n",
        "\n",
        "    while x < x_stop:\n",
        "        h = min(h, x_stop - x)\n",
        "        y = y + runge_kutta_3(F, x, y, h)\n",
        "        x = x + h\n",
        "\n",
        "        X.append(x)\n",
        "        Y.append(y)\n",
        "\n",
        "    return np.array(X), np.array(Y)\n",
        "\n",
        "def integrate_rk4(F, x, y, x_stop, h):\n",
        "    X = []\n",
        "    Y = []\n",
        "\n",
        "    X.append(x)\n",
        "    Y.append(y)\n",
        "\n",
        "    while x < x_stop:\n",
        "        h = min(h, x_stop - x)\n",
        "        y = y + runge_kutta_4(F, x, y, h)\n",
        "        x = x + h\n",
        "\n",
        "        X.append(x)\n",
        "        Y.append(y)\n",
        "\n",
        "    return np.array(X), np.array(Y)\n",
        "\n",
        "# Initial values\n",
        "x_start = 0.0\n",
        "x_stop = 2.0\n",
        "y_initial = np.array([0.0, 1.0])\n",
        "h = 0.05\n",
        "\n",
        "# Numerical solution using RK3\n",
        "X_rk3, Y_rk3 = integrate_rk3(F, x_start, y_initial, x_stop, h)\n",
        "\n",
        "# Numerical solution using RK4\n",
        "X_rk4, Y_rk4 = integrate_rk4(F, x_start, y_initial, x_stop, h)\n",
        "\n",
        "# Analytical solution\n",
        "Y_analytical = analytical_solution(X_rk3)\n",
        "\n",
        "# Plotting\n",
        "plt.plot(X_rk3, Y_rk3[:, 0], 'o', label='Numerical (RK3)')\n",
        "plt.plot(X_rk4, Y_rk4[:, 0], 's', label='Numerical (RK4)')\n",
        "plt.plot(X_rk3, Y_analytical, '-', label='Analytical')\n",
        "plt.grid(True)\n",
        "plt.xlabel('x')\n",
        "plt.ylabel('y')\n",
        "plt.legend()\n",
        "plt.title('Comparison of RK3 and RK4 Methods')\n",
        "plt.show()\n"
      ],
      "metadata": {
        "colab": {
          "base_uri": "https://localhost:8080/",
          "height": 472
        },
        "id": "87BqN75QnfVf",
        "outputId": "78909118-a117-4ce5-9688-6cbf2c9af8fb"
      },
      "execution_count": null,
      "outputs": [
        {
          "output_type": "display_data",
          "data": {
            "text/plain": [
              "<Figure size 640x480 with 1 Axes>"
            ],
            "image/png": "[encoded data removed]"
          },
          "metadata": {}
        }
      ]
    },
    {
      "cell_type": "markdown",
      "source": [
        "The RK4 method is already provided in THE code. ONE  can use the same RK4 method to compare the solutions. The RK4 method is generally more accurate than RK3, but it requires more function evaluations per step.\n",
        "\n",
        " In general, One should observe that RK4 provides a more accurate solution but might require more computational effort.\n",
        "\n",
        "But IN THIS QUESTION,The RK3 solution should have a same  accuracy with RK4 for the same step size, but in Rk4 method needs more calculation ."
      ],
      "metadata": {
        "id": "weH0cWKgnzqy"
      }
    },
    {
      "cell_type": "markdown",
      "source": [
        "# ***Problem 2:***"
      ],
      "metadata": {
        "id": "1YKRahPxuRy-"
      }
    },
    {
      "cell_type": "markdown",
      "source": [
        "part (a)\n",
        "\n",
        "Generalize the below equation\n",
        "\n",
        "$I \\approx \\sum_{i=0}^{n-1} \\sum_{j=0}^{n-1} c_i c_j f(x_i, y_j)$\n",
        "\n",
        "so that you can tackle the following five-dimensional integral:\n",
        "$I =  \\int_{-1}^1 (\\frac{2+u+v}{ 5+w + x})^{y}  \\, du \\, dv \\, dw \\, dx \\, dy$\n",
        "\n",
        "using Gauss–Legendre quadrature and N = 100–200.\n",
        "\n",
        "part(b)\n",
        "\n",
        "Then, apply uniform multidimensional Monte Carlo integration as per equation below\n",
        "$\\int f(x)d^{d}x\\approx\\frac{V}{N}\\sum_{i=0}^{N-1}f(X_{i})\\pm\\frac{V}{\\sqrt{N-1}}\\sqrt{\\frac{1}{N}\\sum_{i=0}^{N-1}f^{2}(X_{i})-[\\frac{1}{N}\\sum_{i=0}^{N-1}f(X_{i})]^{2}}$,with N = $10^7$–$10^8$.\n",
        "\n",
        "part(c)\n",
        "\n",
        "Observe that the N’s in the two cases are vastly different, but the total runtimes not so much.\n",
        "\n",
        "\n",
        "\n",
        "\n"
      ],
      "metadata": {
        "id": "RUOz0NljuVuu"
      }
    },
    {
      "cell_type": "markdown",
      "source": [
        "# ***ANS:***"
      ],
      "metadata": {
        "id": "zY2hjJay2LZB"
      }
    },
    {
      "cell_type": "markdown",
      "source": [
        "**Part(A):**"
      ],
      "metadata": {
        "id": "y2VJdGhG2OiS"
      }
    },
    {
      "cell_type": "markdown",
      "source": [
        "Using Gauss–Legendre quadrature"
      ],
      "metadata": {
        "id": "9JgGWQHxE6RV"
      }
    },
    {
      "cell_type": "code",
      "source": [
        "import numpy as np\n",
        "\n",
        "# Define the integrand function for the five-dimensional integral\n",
        "def integrand(u, v, w, x, y):\n",
        "    return ((2 + u + v) / (5 + w + x))**y\n",
        "\n",
        "# Get weights and nodes for Gauss–Legendre quadrature\n",
        "def gauleg_params(n):\n",
        "    xs, cs = np.polynomial.legendre.leggauss(n)\n",
        "    xs = 0.5 * (xs + 1)  # Map from [-1, 1] to [0, 1]\n",
        "    return xs, cs\n",
        "\n",
        "# Perform Gauss–Legendre quadrature for the five-dimensional integral\n",
        "def gauss_legendre_5d(n):\n",
        "    xs, cs = gauleg_params(n)\n",
        "    integral = 0.0\n",
        "\n",
        "    for ui in range(n):\n",
        "        for vi in range(n):\n",
        "            for wi in range(n):\n",
        "                for xi in range(n):\n",
        "                    for yi in range(n):\n",
        "                        integral += cs[ui] * cs[vi] * cs[wi] * cs[xi] * cs[yi] * \\\n",
        "                            integrand(xs[ui], xs[vi], xs[wi], xs[xi], xs[yi])\n",
        "\n",
        "    return 0.5**5 * integral  # Scale by 0.5^5 as the nodes are in [0, 1]\n",
        "\n",
        "# Test the Gauss–Legendre quadrature for the five-dimensional integral\n",
        "N = 10\n",
        "result = gauss_legendre_5d(N)\n",
        "print(f\"Approximate result for N={N}: {result}\")\n"
      ],
      "metadata": {
        "colab": {
          "base_uri": "https://localhost:8080/"
        },
        "id": "B4CoJRTBDalX",
        "outputId": "df294a31-9243-4e7b-ec4c-23ac3c23c39e"
      },
      "execution_count": 4,
      "outputs": [
        {
          "output_type": "stream",
          "name": "stdout",
          "text": [
            "Approximate result for N=10: 0.7214379576376722\n"
          ]
        }
      ]
    },
    {
      "cell_type": "markdown",
      "source": [
        "From the question, we need to use  N = 100–200, but in ansI use N=10, for n=100,it will takes more times to compile the above code."
      ],
      "metadata": {
        "id": "IR-w0hy1EBMA"
      }
    },
    {
      "cell_type": "markdown",
      "source": [
        "***Part (b):***"
      ],
      "metadata": {
        "id": "gHTbJlDxA_8j"
      }
    },
    {
      "cell_type": "markdown",
      "source": [
        "***Using Monte Carlo integration***"
      ],
      "metadata": {
        "id": "RpUx20wQFCkt"
      }
    },
    {
      "cell_type": "code",
      "source": [
        "import random\n",
        "import numpy as np\n",
        "\n",
        "def f(x):\n",
        "    return (x[0] + x[1] + x[2] + x[3] + x[4] + x[5] + x[6] + x[7] + x[8] + x[9])**2\n",
        "def stats(fs):\n",
        "  n = fs.size\n",
        "  fbar = np.sum(fs)/n\n",
        "  fsq = np.sum(fs**2)/n\n",
        "  varfbar = (fsq - fbar**2)/(n - 1)\n",
        "  return fbar, np.sqrt(varfbar)\n",
        "def uniform_multidimensional_monte_carlo_integration(f, N):\n",
        "    V = 1  # Volume for unit cube in 10D\n",
        "    samples = np.random.rand(N, 10)  # Generate N random samples in 10D space\n",
        "    results = np.array([f(sample) for sample in samples])\n",
        "\n",
        "    fbar, err = stats(results)\n",
        "\n",
        "    integral_estimate = V * fbar\n",
        "    error_estimate = V / np.sqrt(N - 1) * np.sqrt((1 / N) * np.sum(results**2) - (1 / N) * fbar**2)\n",
        "\n",
        "    return integral_estimate, error_estimate\n",
        "\n",
        "N_values = [10**7, 10**8]\n",
        "for N in N_values:\n",
        "    integral_estimate, error_estimate = uniform_multidimensional_monte_carlo_integration(f, N)\n",
        "    print(f'N = {N}: Integral Estimate = {integral_estimate:.10f}, Error Estimate = {error_estimate:.10f}')\n"
      ],
      "metadata": {
        "colab": {
          "base_uri": "https://localhost:8080/"
        },
        "id": "SlNVICU-2YDP",
        "outputId": "6efe8eb1-d6a4-4a2b-ea8b-7b22bb65552b"
      },
      "execution_count": null,
      "outputs": [
        {
          "output_type": "stream",
          "name": "stdout",
          "text": [
            "N = 10000000: Integral Estimate = 25.8386106539, Error Estimate = 0.0086735191\n"
          ]
        }
      ]
    },
    {
      "cell_type": "markdown",
      "source": [
        "***Part (C):***"
      ],
      "metadata": {
        "id": "c1BD5UhRFOVP"
      }
    },
    {
      "cell_type": "markdown",
      "source": [
        "Python code for comparism the run time and result for different value of 'N' in two cases."
      ],
      "metadata": {
        "id": "B2S3knE0FVE_"
      }
    },
    {
      "cell_type": "code",
      "source": [
        "import time\n",
        "import random\n",
        "import numpy as np\n",
        "\n",
        "# Gauss–Legendre quadrature function\n",
        "def integrand(u, v, w, x, y):\n",
        "    return ((2 + u + v) / (5 + w + x))**y\n",
        "\n",
        "def gauleg_params(n):\n",
        "    xs, cs = np.polynomial.legendre.leggauss(n)\n",
        "    xs = 0.5 * (xs + 1)\n",
        "    return xs, cs\n",
        "\n",
        "def gauss_legendre_5d(n):\n",
        "    xs, cs = gauleg_params(n)\n",
        "    integral = 0.0\n",
        "\n",
        "    for ui in range(n):\n",
        "        for vi in range(n):\n",
        "            for wi in range(n):\n",
        "                for xi in range(n):\n",
        "                    for yi in range(n):\n",
        "                        integral += cs[ui] * cs[vi] * cs[wi] * cs[xi] * cs[yi] * \\\n",
        "                            integrand(xs[ui], xs[vi], xs[wi], xs[xi], xs[yi])\n",
        "\n",
        "    return 0.5**5 * integral\n",
        "\n",
        "# Uniform multidimensional Monte Carlo integration function\n",
        "def f(x):\n",
        "    return (x[0] + x[1] + x[2] + x[3] + x[4] + x[5] + x[6] + x[7] + x[8] + x[9])**2\n",
        "\n",
        "def stats(fs):\n",
        "    n = fs.size\n",
        "    fbar = np.sum(fs)/n\n",
        "    fsq = np.sum(fs**2)/n\n",
        "    varfbar = (fsq - fbar**2)/(n - 1)\n",
        "    return fbar, np.sqrt(varfbar)\n",
        "\n",
        "def uniform_multidimensional_monte_carlo_integration(f, N):\n",
        "    V = 1\n",
        "    samples = np.random.rand(N, 10)\n",
        "    results = np.array([f(sample) for sample in samples])\n",
        "\n",
        "    fbar, err = stats(results)\n",
        "\n",
        "    integral_estimate = V * fbar\n",
        "    error_estimate = V / np.sqrt(N - 1) * np.sqrt((1 / N) * np.sum(results**2) - (1 / N) * fbar**2)\n",
        "\n",
        "    return integral_estimate, error_estimate\n",
        "\n",
        "# Measure runtime for Gauss–Legendre quadrature\n",
        "N = 10\n",
        "start_time = time.time()\n",
        "result_gauss_legendre = gauss_legendre_5d(N)\n",
        "end_time = time.time()\n",
        "print(f\"Gauss–Legendre Quadrature Runtime (N={N}): {end_time - start_time} seconds\")\n",
        "print(f\"Approximate result for N={N}: {result_gauss_legendre}\\n\")\n",
        "\n",
        "# Measure runtime for uniform multidimensional Monte Carlo integration\n",
        "N = 10**7\n",
        "start_time = time.time()\n",
        "integral_estimate, error_estimate = uniform_multidimensional_monte_carlo_integration(f, N)\n",
        "end_time = time.time()\n",
        "print(f\"Monte Carlo Integration Runtime (N={N}): {end_time - start_time} seconds\")\n",
        "print(f'Integral Estimate = {integral_estimate:.10f}, Error Estimate = {error_estimate:.10f}')\n"
      ],
      "metadata": {
        "colab": {
          "base_uri": "https://localhost:8080/"
        },
        "id": "tonKCnyLGurx",
        "outputId": "4da515c5-9840-49ea-b265-906f4727611c"
      },
      "execution_count": 6,
      "outputs": [
        {
          "output_type": "stream",
          "name": "stdout",
          "text": [
            "Gauss–Legendre Quadrature Runtime (N=10): 0.1322495937347412 seconds\n",
            "Approximate result for N=10: 0.7214379576376722\n",
            "\n",
            "Monte Carlo Integration Runtime (N=10000000): 15.921863555908203 seconds\n",
            "Integral Estimate = 25.8358078244, Error Estimate = 0.0086729648\n"
          ]
        }
      ]
    },
    {
      "cell_type": "markdown",
      "source": [
        "This code includes both the Gauss–Legendre quadrature and uniform multidimensional Monte Carlo integration methods, along with the runtime measurements for each. one can Adjust the values of N as needed for  specific comparison."
      ],
      "metadata": {
        "id": "vqyvmZkzHtB9"
      }
    }
  ]
}