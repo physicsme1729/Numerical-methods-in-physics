{
  "cells": [
    {
      "cell_type": "markdown",
      "metadata": {
        "id": "view-in-github",
        "colab_type": "text"
      },
      "source": [
        "<a href=\"https://colab.research.google.com/github/physicsme1729/Numerical-methods-in-physics/blob/main/9_swarup_kumar_Giri_phy_P745.ipynb\" target=\"_parent\"><img src=\"https://colab.research.google.com/assets/colab-badge.svg\" alt=\"Open In Colab\"/></a>"
      ]
    },
    {
      "cell_type": "markdown",
      "metadata": {
        "id": "q57E53HWBYZG"
      },
      "source": [
        "# ***Question 1:-***"
      ]
    },
    {
      "cell_type": "markdown",
      "source": [
        "# ***I had Divide this question into 4 parts , please cheak all parts carefully***"
      ],
      "metadata": {
        "id": "ulNkEj-ykc7C"
      }
    },
    {
      "cell_type": "markdown",
      "metadata": {
        "id": "qA3cVQS_I_SM"
      },
      "source": [
        "We don’t know the multiplicity(m) of a root ahead of time, so the utility of the equation\n",
        "\\begin{equation}\n",
        "    g(x)=x-m\\frac{f(x)}{f'(x)}\n",
        "\\end{equation}\n",
        "is limited. Lets define formula for \\begin{equation}\n",
        "    w(x)=\\frac{f(x)}{f'(x)}\n",
        "\\end{equation}\n",
        "In this case use the equation\n",
        "\\begin{equation}\n",
        "    f(x)=(x-x^*)^mq(x)\n",
        "\\end{equation}\n",
        "where $q(x^*)\\neq 0$.\n",
        "The formula for $w'(x)$, which leads to $w'(x^*)$ = 1/m.\n",
        "But this means that $w'(x^*)\\neq 0$, while $w(x^*) = 0$ which  means $f(x^*)=0$; in other words, w(x) has a simple root\n",
        "at $x^*$ regardless of what the multiplicity (m) of f(x) at $x^*$ is.\n",
        "\n",
        "\n",
        "***part  (a):- ***\n",
        "\n",
        " whenever you think you may have a multiple root, you could apply Newton’s method not to f(x), but to w(x). Code this approach in\n",
        "Python for the case of:\n",
        "$x^5-3x^4+x^3+5x^2-6x+2=0$\n",
        "\n",
        "\n",
        " ***part  (b):- ***\n",
        "\n",
        " Compare your runs to how long it takes the (unmodified) Newton’s method to converge. Here unmodified means  apply  the Newton’s method  to f(x)\n",
        "\n",
        "***part  (c):- ***\n",
        "\n",
        " Also compare the result of using the Equation\n",
        "\\begin{equation}\n",
        "    g(x)=x-m\\frac{f(x)}{f'(x)}\n",
        "\\end{equation} , where you’ll need to\n",
        "guess the value of m , such that $g'(x^*)=0$ for part (a).\n",
        "\n",
        "**part  (d):- **\n",
        "\n",
        "similarly compare the result of using the Equation\n",
        "\\begin{equation}\n",
        "    g(x)=x-m\\frac{w(x)}{w'(x)}\n",
        "\\end{equation} , and guess the value of m , such that $g'(x^*)=0$ for part (b)."
      ]
    },
    {
      "cell_type": "markdown",
      "metadata": {
        "id": "42sCCqBbBVwO"
      },
      "source": [
        "# ***ANS:***"
      ]
    },
    {
      "cell_type": "markdown",
      "metadata": {
        "id": "XYv0XbQMI90d"
      },
      "source": [
        "***Part(a) ans :***"
      ]
    },
    {
      "cell_type": "markdown",
      "source": [
        " Implementing Newton's method on w(x) .Let's first implement Newton's method on the function w(x) for the given equation and find the root of the equation $x^5-3x^4+x^3+5x^2-6x+2=0$"
      ],
      "metadata": {
        "id": "uGi0w-dtk0o_"
      }
    },
    {
      "cell_type": "code",
      "source": [
        "import sympy as sp\n",
        "\n",
        "# Define the variables and the equation\n",
        "x = sp.symbols('x')\n",
        "f = x**5 - 3*x**4 + x**3 + 5*x**2 - 6*x + 2\n",
        "\n",
        "# Define w(x)\n",
        "w = f / sp.diff(f, x)\n",
        "\n",
        "# Define the initial guess\n",
        "x0 = 1.1\n",
        "\n",
        "# Set the tolerance and maximum iterations\n",
        "tolerance = 1e-10\n",
        "max_iterations = 100\n",
        "\n",
        "# Newton's method on w(x)\n",
        "for i in range(max_iterations):\n",
        "    w_val = w.subs(x, x0)\n",
        "    w_prime_val = sp.diff(w, x).subs(x, x0)\n",
        "    x1 = x0 - w_val / w_prime_val\n",
        "    if abs(x1 - x0) < tolerance:\n",
        "        break\n",
        "    x0 = x1\n",
        "\n",
        "# Print the result\n",
        "if i < max_iterations - 1:\n",
        "    print(f\"Root found at x = {x1} with {i+1} iterations.\")\n",
        "else:\n",
        "    print(\"Newton's method on w(x) did not converge within the maximum iterations.\")\n"
      ],
      "metadata": {
        "colab": {
          "base_uri": "https://localhost:8080/"
        },
        "id": "2DubD-hVlb8r",
        "outputId": "8cb8fdf8-6542-4e1b-d205-1441ffae29ec"
      },
      "execution_count": null,
      "outputs": [
        {
          "output_type": "stream",
          "name": "stdout",
          "text": [
            "Root found at x = 1.00000025942377 with 5 iterations.\n"
          ]
        }
      ]
    },
    {
      "cell_type": "markdown",
      "metadata": {
        "id": "OTlSrDPuLts1"
      },
      "source": [
        "***Part (b) ans:***"
      ]
    },
    {
      "cell_type": "markdown",
      "source": [
        "Comparing with unmodified Newton's method\n",
        "Let's now compare the time it takes for the modified Newton's method on w(x) with the unmodified Newton's method on f(x) to converge."
      ],
      "metadata": {
        "id": "WUfkAUYslwRR"
      }
    },
    {
      "cell_type": "code",
      "source": [
        "import time\n",
        "\n",
        "# Unmodified Newton's method on f(x)\n",
        "x0 = 1.1\n",
        "start_time = time.time()\n",
        "for i in range(max_iterations):\n",
        "    f_val = f.subs(x, x0)\n",
        "    f_prime_val = sp.diff(f, x).subs(x, x0)\n",
        "    x1 = x0 - f_val / f_prime_val\n",
        "    if abs(x1 - x0) < tolerance:\n",
        "        break\n",
        "    x0 = x1\n",
        "end_time = time.time()\n",
        "\n",
        "if i < max_iterations - 1:\n",
        "    print(f\"Unmodified Newton's method found a root at x = {x1} with {i+1} iterations.\")\n",
        "    print(f\"Time taken: {end_time - start_time} seconds\")\n",
        "else:\n",
        "    print(\"Unmodified Newton's method did not converge within the maximum iterations.\")\n",
        "\n",
        "# Modified Newton's method on w(x) as implemented in part (a)\n",
        "start_time = time.time()\n",
        "for i in range(max_iterations):\n",
        "    w_val = w.subs(x, x0)\n",
        "    w_prime_val = sp.diff(w, x).subs(x, x0)\n",
        "    x1 = x0 - w_val / w_prime_val\n",
        "    if abs(x1 - x0) < tolerance:\n",
        "        break\n",
        "    x0 = x1\n",
        "end_time = time.time()\n",
        "\n",
        "if i < max_iterations - 1:\n",
        "    print(f\"Modified Newton's method on w(x) found a root at x = {x1} with {i+1} iterations.\")\n",
        "    print(f\"Time taken: {end_time - start_time} seconds\")\n",
        "else:\n",
        "    print(\"Modified Newton's method on w(x) did not converge within the maximum iterations.\")\n"
      ],
      "metadata": {
        "colab": {
          "base_uri": "https://localhost:8080/"
        },
        "id": "qrCSb7Dil73W",
        "outputId": "1434ec31-dad4-4edd-f725-b16b6e9bccdb"
      },
      "execution_count": null,
      "outputs": [
        {
          "output_type": "stream",
          "name": "stdout",
          "text": [
            "Unmodified Newton's method found a root at x = 0.999999108359501 with 31 iterations.\n",
            "Time taken: 0.08005189895629883 seconds\n",
            "Modified Newton's method on w(x) found a root at x = 0.999999108359501 with 1 iterations.\n",
            "Time taken: 0.0015971660614013672 seconds\n"
          ]
        }
      ]
    },
    {
      "cell_type": "markdown",
      "source": [
        "***Part (c): Guessing m for the function f(x) using g(x)***"
      ],
      "metadata": {
        "id": "RxZqOHkImhYg"
      }
    },
    {
      "cell_type": "code",
      "source": [
        "import sympy as sp\n",
        "\n",
        "# Define the variable and the function for f(x)\n",
        "x = sp.symbols('x')\n",
        "f_x = x**5 - 3*x**4 + x**3 + 5*x**2 - 6*x + 2\n",
        "\n",
        "# Calculate f'(x)\n",
        "f_prime_x = sp.diff(f_x, x)\n",
        "\n",
        "# Define the equation for g(x) using f(x)\n",
        "def g_f(x, m):\n",
        "    return x - m * f_x / f_prime_x\n",
        "\n",
        "# Find the root using the guessed value of m\n",
        "x0 = 1.1  # Initial guess for the root\n",
        "m_guess = 1.7  # Initial guess for m\n",
        "root_g_f = sp.nsolve(sp.diff(g_f(x, m_guess), x), x, x0)\n",
        "print(\"Estimated root using g(x) with m =\", m_guess, \":\", root_g_f)\n"
      ],
      "metadata": {
        "colab": {
          "base_uri": "https://localhost:8080/"
        },
        "id": "NA9RGCHzmk5b",
        "outputId": "d8cad39e-b5fe-4277-bc46-f856b466b769"
      },
      "execution_count": null,
      "outputs": [
        {
          "output_type": "stream",
          "name": "stdout",
          "text": [
            "Estimated root using g(x) with m = 1.7 : 1.16315265421496\n"
          ]
        }
      ]
    },
    {
      "cell_type": "markdown",
      "source": [
        "***Part (d): Guessing m for the function w(x) using g(x)***"
      ],
      "metadata": {
        "id": "Q4euzW9Hm-z4"
      }
    },
    {
      "cell_type": "code",
      "source": [
        "import sympy as sp\n",
        "\n",
        "# Define the variable and the function for w(x)\n",
        "x = sp.symbols('x')\n",
        "f_x = x**5 - 3*x**4 + x**3 + 5*x**2 - 6*x + 2\n",
        "f_prime_x = sp.diff(f_x, x)\n",
        "w_x = f_x / f_prime_x\n",
        "\n",
        "# Define the equation for g(x) using w(x)\n",
        "def g_w(x, m):\n",
        "    return x - m * w_x / sp.diff(w_x, x)\n",
        "\n",
        "# Find the root using the guessed value of m\n",
        "x0 = 1.1  # Initial guess for the root\n",
        "m_guess = 1.3  # Initial guess for m\n",
        "root_g_w = sp.nsolve(sp.diff(g_w(x, m_guess), x), x, x0)\n",
        "print(\"Estimated root using g(x) with m =\", m_guess, \":\", root_g_w)\n"
      ],
      "metadata": {
        "colab": {
          "base_uri": "https://localhost:8080/"
        },
        "id": "ObSlrRE2nBV-",
        "outputId": "4e35a56c-3b07-4757-a28c-45565469ee9a"
      },
      "execution_count": null,
      "outputs": [
        {
          "output_type": "stream",
          "name": "stdout",
          "text": [
            "Estimated root using g(x) with m = 1.3 : 1.08299649198962\n"
          ]
        }
      ]
    },
    {
      "cell_type": "markdown",
      "source": [
        "In both parts, we start with an initial guess for the root (x0) and the value of m. We then use the nsolve function from SymPy to find the root that makes the derivative of g(x) close to zero, effectively estimating the multiplicity of the root."
      ],
      "metadata": {
        "id": "zVeJPpzCn1h3"
      }
    },
    {
      "cell_type": "markdown",
      "metadata": {
        "id": "jBqz-YNWLtwT"
      },
      "source": [
        "# ***Question 2:-***"
      ]
    },
    {
      "cell_type": "markdown",
      "source": [
        "# ***I had divide this question into 3 parts , please cheak each part careflly:***"
      ],
      "metadata": {
        "id": "UBFQ3ODLDHHC"
      }
    },
    {
      "cell_type": "markdown",
      "metadata": {
        "id": "R5w_AC-kL0Hv"
      },
      "source": [
        "There exists a method known as regula falsi or false position which is very similar to the secant method. The difference is that regula falsi is a bracketing method, so it starts with $x_0$ and $x_1$ such that $f(x_0)f(x_1) < 0$. Like the secant method, it then employs the line that goes through the two points\n",
        " $(x_0, y_0)$ and $(x_1, y_1)$), as per Equation,\n",
        " \\begin{equation}\n",
        "     y-y_0=\\frac{y_1-y_0}{x_1-x_0}(x-x_0)\n",
        " \\end{equation}\n",
        ",and then finds the x-axis intercept. The false-position method then ensures that it continues to bracket the root.\n",
        "\n",
        "\n",
        "***Part (a) :***  Implement this approach for our example function $f(x)=e^{(x-\\sqrt{x})}-x$,\n",
        "starting with the interval (0, 1.7).\n",
        "\n",
        "\n",
        "***Part (b) :*** Do you see the method converging on both sides or not?\n",
        "\n",
        "***Part (c) :*** Do you understand what that implies for the case where one of your initial points is “bad”, i.e., very far from the root?"
      ]
    },
    {
      "cell_type": "markdown",
      "metadata": {
        "id": "3vj-ggwEL78W"
      },
      "source": [
        "# ***Ans:***"
      ]
    },
    {
      "cell_type": "markdown",
      "source": [
        "***Part (a) ans :***"
      ],
      "metadata": {
        "id": "ja0FV3g6DfAC"
      }
    },
    {
      "cell_type": "markdown",
      "source": [
        "To implement the false position (regula falsi) method for the given function $f(x)=e^{(x-\\sqrt{x})}-x$,  we need to start with an initial interval $(x_0, y_0)$ such that $f(x_0)f(x_1) < 0$.\n",
        "\n",
        "The false position method involves iteratively updating the endpoints of the interval until the root is bracketed. Here's a Python implementation:"
      ],
      "metadata": {
        "id": "IqgX547FA8N1"
      }
    },
    {
      "cell_type": "code",
      "execution_count": null,
      "metadata": {
        "colab": {
          "base_uri": "https://localhost:8080/"
        },
        "id": "yeKRdnW8TUma",
        "outputId": "c19fcddc-290c-42ae-c195-ab1d16e7743a"
      },
      "outputs": [
        {
          "output_type": "stream",
          "name": "stdout",
          "text": [
            "Converged to root: 1.0000016237940836 (in 19 iterations)\n"
          ]
        }
      ],
      "source": [
        "import math\n",
        "\n",
        "def f(x):\n",
        "    return math.exp(x - math.sqrt(x)) - x\n",
        "\n",
        "def false_position(f, a, b, tol=1e-6, max_iter=100):\n",
        "    if f(a) * f(b) >= 0:\n",
        "        print(\"The interval does not bracket the root.\")\n",
        "        return None\n",
        "\n",
        "    for i in range(max_iter):\n",
        "        c = (a * f(b) - b * f(a)) / (f(b) - f(a))\n",
        "\n",
        "        if abs(f(c)) < tol:\n",
        "            print(f\"Converged to root: {c} (in {i+1} iterations)\")\n",
        "            return c\n",
        "\n",
        "        if f(a) * f(c) < 0:\n",
        "            b = c\n",
        "        else:\n",
        "            a = c\n",
        "\n",
        "    print(\"Max iterations reached. Root not found.\")\n",
        "    return None\n",
        "\n",
        "# Initial interval\n",
        "a = 0\n",
        "b = 1.7\n",
        "\n",
        "root = false_position(f, a, b)\n",
        "\n"
      ]
    },
    {
      "cell_type": "markdown",
      "source": [
        "***Part (*b*) ans :***"
      ],
      "metadata": {
        "id": "fJpyg1fcDqFB"
      }
    },
    {
      "cell_type": "markdown",
      "source": [
        "To determine if the method converges on both sides, let's analyze the behavior of the false position method.\n",
        "\n",
        "The false position method, being a bracketing method, will generally converge to the root within the specified tolerance if the initial interval brackets the root. In this case, it starts with the interval (0, 1.7). Since the function  $f(x)=e^{(x-\\sqrt{x})}-x$ is continuous, and the initial interval satisfies $f(0)f(1.7) < 0$ , the method should converge on both sides to find the root.\n",
        "\n",
        "However, the convergence rate may differ on each side, and the method may require different numbers of iterations to converge."
      ],
      "metadata": {
        "id": "ILZdMmQzDv-f"
      }
    },
    {
      "cell_type": "markdown",
      "source": [
        "***Part (*c*) ans :***"
      ],
      "metadata": {
        "id": "FmGHbtZIELNh"
      }
    },
    {
      "cell_type": "markdown",
      "source": [
        "When one of the initial points is \"bad\" and is very far from the root, it can affect the efficiency of the false position method.\n",
        "\n",
        "If one of the initial points is too far from the root, it may lead to slow convergence or even divergence. The method works by iteratively updating the endpoints of the interval to bracket the root. If one of the initial points is far from the root, it might require a large number of iterations to bring the interval closer to the root, which can be computationally expensive.\n",
        "\n",
        "In practical applications, it's important to choose initial points that are reasonably close to the root, especially when the function has multiple roots or complex behavior. The choice of initial points can significantly impact the method's efficiency. Adjusting the initial interval is often necessary to ensure convergence."
      ],
      "metadata": {
        "id": "nXaIpWW5EM1N"
      }
    }
  ],
  "metadata": {
    "colab": {
      "provenance": [],
      "include_colab_link": true
    },
    "kernelspec": {
      "display_name": "Python 3",
      "name": "python3"
    },
    "language_info": {
      "name": "python"
    }
  },
  "nbformat": 4,
  "nbformat_minor": 0
}