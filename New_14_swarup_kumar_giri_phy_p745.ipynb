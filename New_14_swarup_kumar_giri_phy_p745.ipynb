{
  "nbformat": 4,
  "nbformat_minor": 0,
  "metadata": {
    "colab": {
      "provenance": [],
      "authorship_tag": "ABX9TyN+ViYmWeq8CB9ykOTFCkdC",
      "include_colab_link": true
    },
    "kernelspec": {
      "name": "python3",
      "display_name": "Python 3"
    },
    "language_info": {
      "name": "python"
    }
  },
  "cells": [
    {
      "cell_type": "markdown",
      "metadata": {
        "id": "view-in-github",
        "colab_type": "text"
      },
      "source": [
        "<a href=\"https://colab.research.google.com/github/physicsme1729/Numerical-methods-in-physics/blob/main/New_14_swarup_kumar_giri_phy_p745.ipynb\" target=\"_parent\"><img src=\"https://colab.research.google.com/assets/colab-badge.svg\" alt=\"Open In Colab\"/></a>"
      ]
    },
    {
      "cell_type": "markdown",
      "source": [
        "# ***QUESTION 1:***"
      ],
      "metadata": {
        "id": "MnteVLM8xi3c"
      }
    },
    {
      "cell_type": "markdown",
      "source": [
        "***Part (a)***\n",
        "\n",
        " Calculate the magnetic susceptibility of the 1d Ising model analytically,\n",
        "\n",
        " ***Part(b)***\n",
        "\n",
        " Using the metropolis code shared with you, calculate the magnetic susceptibility numerically.\n",
        "\n",
        "***Part(c)***\n",
        "\n",
        "Show also the equivalence between the formulas you use to determine magnetic susceptibility analytically and numerically.\n",
        "\n",
        "Hint:\n",
        "\n",
        "**1D Ising Model**\n",
        "\n",
        "**Magnetization** $m=\\frac{\\sinh \\beta h}{\\sqrt{\\sinh^{2}\\beta h + e^{-4 \\beta J}}}$.\n",
        "\n",
        "and Susceptibility,$\\chi = \\frac{\\partial M}{\\partial h}$"
      ],
      "metadata": {
        "id": "06vgPTDoyXo1"
      }
    },
    {
      "cell_type": "markdown",
      "source": [
        "# ***Ans:***"
      ],
      "metadata": {
        "id": "ejJfg56a0sH1"
      }
    },
    {
      "cell_type": "markdown",
      "source": [
        "part (a) solution:"
      ],
      "metadata": {
        "id": "DH7-_Q5H9keW"
      }
    },
    {
      "cell_type": "markdown",
      "source": [
        "\n",
        "\n",
        "\\begin{align*}\n",
        "m &= \\frac{\\sinh{\\beta h}}{\\sqrt{\\sinh^2{\\beta h} + e^{-4 \\beta J}}} \\\\\n",
        "\\end{align*}\n",
        "susceptibility is defined as\n",
        "\\begin{align*}\n",
        "\\chi &= \\frac{\\partial m}{\\partial h} \\\\\n",
        "&= \\frac{\\beta \\sqrt{\\sinh^2{\\beta h} + e^{-4 \\beta J}}\\cosh{\\beta h} - \\sinh{\\beta h}\\frac{\\beta \\sinh{\\beta h}\\cosh{\\beta h}}{\\sqrt{\\sinh^2{\\beta h} + e^{-4 \\beta J}}}}{\\sinh^2{\\beta h} + e^{-4 \\beta J}} \\\\\n",
        "&= \\frac{\\beta \\sinh^2{\\beta h} \\cosh{\\beta h} + \\beta \\cosh{\\beta h} e^{-4 \\beta J} - \\beta \\sinh^2{\\beta h} \\cosh{\\beta h}}{(\\sinh^2{\\beta h} + e^{-4 \\beta J})^{3/2}} \\\\\n",
        "&= \\frac{\\beta \\cosh{\\beta h} e^{-4 \\beta J}}{(\\sinh^2{\\beta h} + e^{-4 \\beta J})^{3/2}} \\\\\n",
        "\\therefore \\chi &= \\frac{\\beta \\cosh{\\beta h} e^{-4 \\beta J}}{(\\sinh^2{\\beta h} + e^{-4 \\beta J})^{3/2}}\n",
        "\\end{align*}\n",
        "\n",
        "\n",
        "\n",
        "\n"
      ],
      "metadata": {
        "id": "M4-exvbo_Xsk"
      }
    },
    {
      "cell_type": "markdown",
      "source": [
        "***Part (b) solution:***"
      ],
      "metadata": {
        "id": "hxF3RQPrP2Mj"
      }
    },
    {
      "cell_type": "code",
      "source": [
        "import numpy as np\n",
        "import matplotlib.pyplot as plt\n",
        "\n",
        "def ising_spin_exact(beta, J, h):\n",
        "    sbh = np.sinh(beta * h)\n",
        "    cbh = np.cosh(beta * h)\n",
        "    efactor = np.exp(-4 * beta * J)\n",
        "    numerator = cbh * beta * efactor\n",
        "    denominator = (sbh ** 2 + efactor) ** (3/2)\n",
        "    return numerator / denominator\n",
        "\n",
        "def energy_difference(J, h, si, sleft, sright):\n",
        "    dE = 2 * h * si + 2 * J * si * (sleft + sright)\n",
        "    return dE\n",
        "\n",
        "def metropolis_mc_fast(n_steps, n_lattice_sites, beta, J, h, debug=False, save_freq=10):\n",
        "    configuration = 2 * np.random.randint(2, size=n_lattice_sites) - 1\n",
        "    average_spins = []\n",
        "\n",
        "    if debug:\n",
        "        print(\"Starting configuration:\", configuration)\n",
        "\n",
        "    current_energy = energy_ising_1d(configuration, J, h)\n",
        "    for i in range(n_steps):\n",
        "        spin_to_change = np.random.randint(n_lattice_sites)\n",
        "        si = configuration[spin_to_change]\n",
        "        sright = configuration[(spin_to_change + 1) % n_lattice_sites]\n",
        "        sleft = configuration[(spin_to_change - 1) % n_lattice_sites]\n",
        "\n",
        "        dE = energy_difference(J, h, si, sleft, sright)\n",
        "\n",
        "        r = np.random.random()\n",
        "        if r < min(1, np.exp(-beta * dE)):\n",
        "            configuration[spin_to_change] *= -1\n",
        "            current_energy += dE\n",
        "\n",
        "        average_spin = configuration.mean()\n",
        "\n",
        "        if i % save_freq == 0:\n",
        "            average_spins.append(average_spin)\n",
        "\n",
        "        if debug and i % 10 == 0:\n",
        "            print(\"%i: \" % i, configuration, \"Energy:\", current_energy, \"Spin:\", average_spin)\n",
        "\n",
        "    return average_spins\n",
        "\n",
        "def energy_ising_1d(configuration, J, h):\n",
        "    num_spins = len(configuration)\n",
        "    energy = 0.0\n",
        "    for i in range(num_spins):\n",
        "        spini = configuration[i]\n",
        "        ip1 = (i + 1) % num_spins\n",
        "        spinip1 = configuration[ip1]\n",
        "        energy = energy - J * (spini * spinip1) - h * spini\n",
        "\n",
        "    return energy\n",
        "\n",
        "# Simulation parameters\n",
        "test_n_lattice_sites = 50\n",
        "test_beta = 1\n",
        "test_J = 1\n",
        "test_n_steps = test_n_lattice_sites * 100\n",
        "test_h_list = np.arange(-2, 2.25, 0.05)\n",
        "\n",
        "# Simulation\n",
        "spin_vs_h = []\n",
        "for test_h in test_h_list:\n",
        "    average_spin_at_h = metropolis_mc_fast(test_n_steps, test_n_lattice_sites, test_beta, test_J, test_h)\n",
        "    average_spin_at_h_next = metropolis_mc_fast(test_n_steps, test_n_lattice_sites, test_beta, test_J, test_h + 0.05)\n",
        "    mean_spin_from_trajectory = np.mean(average_spin_at_h[len(average_spin_at_h) // 2:])\n",
        "    mean_spin_from_trajectory_next = np.mean(average_spin_at_h_next[len(average_spin_at_h) // 2:])\n",
        "    spin_vs_h.append(abs(mean_spin_from_trajectory_next - mean_spin_from_trajectory) / 0.05)\n",
        "\n",
        "# Analytical Solution\n",
        "predicted_spin_v_h = ising_spin_exact(test_beta, test_J, test_h_list)\n",
        "\n",
        "# Plotting\n",
        "p = plt.plot(test_h_list, spin_vs_h, marker='o', label=\"Simulation\", linestyle='')\n",
        "plt.plot(test_h_list, predicted_spin_v_h, label=\"Theory\", color=p[0].get_color())\n",
        "plt.xlabel('$h$')\n",
        "plt.ylabel('$\\\\langle m \\\\rangle$')\n",
        "plt.axhline(0, linestyle='--', color='black')\n",
        "plt.axvline(0, linestyle='--', color='black')\n",
        "plt.legend(loc=0)\n",
        "plt.show()\n"
      ],
      "metadata": {
        "colab": {
          "base_uri": "https://localhost:8080/",
          "height": 450
        },
        "id": "cuwCEHYj9Z0n",
        "outputId": "35db1939-d96a-4eef-b291-e51b29ce4812"
      },
      "execution_count": 1,
      "outputs": [
        {
          "output_type": "display_data",
          "data": {
            "text/plain": [
              "<Figure size 640x480 with 1 Axes>"
            ],
            "image/png": "[encoded data removed]"
          },
          "metadata": {}
        }
      ]
    },
    {
      "cell_type": "markdown",
      "source": [
        "***part (c) solution:***"
      ],
      "metadata": {
        "id": "HjQ2YsT3RM1F"
      }
    },
    {
      "cell_type": "markdown",
      "source": [
        "The predicted values provide a good estimation for most values, except in the region near the origin where the true behavior of the function approaches infinity. This discrepancy arises from the analytical prediction, which does not exhibit this divergence. Increasing the step size in the values of\n",
        "ℎ results in better conformity between the simulated and theoretical results, as illustrated below."
      ],
      "metadata": {
        "id": "zq1xOInnQ1Sh"
      }
    },
    {
      "cell_type": "code",
      "source": [
        "import numpy as np\n",
        "import matplotlib.pyplot as plt\n",
        "\n",
        "def ising_spin_exact(beta, J, h):\n",
        "    sbh = np.sinh(beta * h)\n",
        "    cbh = np.cosh(beta * h)\n",
        "    efactor = np.exp(-4 * beta * J)\n",
        "    numerator = cbh * beta * efactor\n",
        "    denominator = (sbh ** 2 + efactor) ** (3/2)\n",
        "    return numerator / denominator\n",
        "\n",
        "def energy_difference(J, h, si, sleft, sright):\n",
        "    dE = 2 * h * si + 2 * J * si * (sleft + sright)\n",
        "    return dE\n",
        "\n",
        "def energy_ising_1d(configuration, J, h):\n",
        "    num_spins = len(configuration)\n",
        "    energy = 0.0\n",
        "    for i in range(num_spins):\n",
        "        spini = configuration[i]\n",
        "        ip1 = (i + 1) % num_spins\n",
        "        spinip1 = configuration[ip1]\n",
        "        energy = energy - J * (spini * spinip1) - h * spini\n",
        "\n",
        "    return energy\n",
        "\n",
        "def metropolis_mc_fast(n_steps, n_lattice_sites, beta, J, h, debug=False, save_freq=10):\n",
        "    configuration = 2 * np.random.randint(2, size=n_lattice_sites) - 1\n",
        "    average_spins = []\n",
        "\n",
        "    if debug:\n",
        "        print(\"Starting configuration:\", configuration)\n",
        "\n",
        "    current_energy = energy_ising_1d(configuration, J, h)\n",
        "    for i in range(n_steps):\n",
        "        spin_to_change = np.random.randint(n_lattice_sites)\n",
        "        si = configuration[spin_to_change]\n",
        "        sright = configuration[(spin_to_change + 1) % n_lattice_sites]\n",
        "        sleft = configuration[(spin_to_change - 1) % n_lattice_sites]\n",
        "\n",
        "        dE = energy_difference(J, h, si, sleft, sright)\n",
        "\n",
        "        r = np.random.random()\n",
        "        if r < min(1, np.exp(-beta * dE)):\n",
        "            configuration[spin_to_change] *= -1\n",
        "            current_energy += dE\n",
        "\n",
        "        average_spin = configuration.mean()\n",
        "\n",
        "        if i % save_freq == 0:\n",
        "            average_spins.append(average_spin)\n",
        "\n",
        "        if debug and i % 10 == 0:\n",
        "            print(\"%i: \" % i, configuration, \"Energy:\", current_energy, \"Spin:\", average_spin)\n",
        "\n",
        "    return average_spins\n",
        "\n",
        "def plot_simulation_vs_theory(test_h_list, spin_vs_h, predicted_spin_v_h):\n",
        "    p = plt.plot(test_h_list, spin_vs_h, marker='o', label=\"Simulation\", linestyle='')\n",
        "    plt.plot(test_h_list, predicted_spin_v_h, label=\"Theory\", color=p[0].get_color())\n",
        "    plt.xlabel('$h$')\n",
        "    plt.ylabel('$\\\\langle m \\\\rangle$')\n",
        "    plt.axhline(0, linestyle='--', color='black')\n",
        "    plt.axvline(0, linestyle='--', color='black')\n",
        "    plt.legend(loc=0)\n",
        "    plt.grid(True)  # Add grid lines for better readability\n",
        "\n",
        "# Simulation parameters\n",
        "test_n_lattice_sites = 50\n",
        "test_beta = 1\n",
        "test_J = 1\n",
        "test_n_steps = test_n_lattice_sites * 100\n",
        "\n",
        "# Scanning h\n",
        "test_h_list = np.arange(-2, 2.25, 0.1)\n",
        "spin_vs_h = []\n",
        "\n",
        "for test_h in test_h_list:\n",
        "    average_spin_at_h = metropolis_mc_fast(test_n_steps, test_n_lattice_sites, test_beta, test_J, test_h)\n",
        "    average_spin_at_h_next = metropolis_mc_fast(test_n_steps, test_n_lattice_sites, test_beta, test_J, test_h + 0.1)\n",
        "    mean_spin_from_trajectory = np.mean(average_spin_at_h[len(average_spin_at_h) // 2:])\n",
        "    mean_spin_from_trajectory_next = np.mean(average_spin_at_h_next[len(average_spin_at_h) // 2:])\n",
        "    spin_vs_h.append(abs(mean_spin_from_trajectory_next - mean_spin_from_trajectory) / 0.1)\n",
        "\n",
        "predicted_spin_v_h = ising_spin_exact(test_beta, test_J, test_h_list)\n",
        "\n",
        "# Plotting\n",
        "plot_simulation_vs_theory(test_h_list, spin_vs_h, predicted_spin_v_h)\n",
        "plt.show()\n"
      ],
      "metadata": {
        "colab": {
          "base_uri": "https://localhost:8080/",
          "height": 450
        },
        "id": "aOW7UBvTRt00",
        "outputId": "e0f29570-ec81-4b49-c1bd-8d83082289ed"
      },
      "execution_count": 3,
      "outputs": [
        {
          "output_type": "display_data",
          "data": {
            "text/plain": [
              "<Figure size 640x480 with 1 Axes>"
            ],
            "image/png": "[encoded data removed]"
          },
          "metadata": {}
        }
      ]
    }
  ]
}